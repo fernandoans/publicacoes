{
 "cells": [
  {
   "cell_type": "markdown",
   "id": "a15883f7-0574-4f5b-9f88-a371c8ac5005",
   "metadata": {},
   "source": [
    "# Melhora dos Dados Estatísticos"
   ]
  },
  {
   "cell_type": "code",
   "execution_count": null,
   "id": "dbbd52bd-45b7-48b1-baf5-7d98a9d64c1d",
   "metadata": {},
   "outputs": [],
   "source": [
    "from pyspark.sql import SparkSession"
   ]
  },
  {
   "cell_type": "code",
   "execution_count": null,
   "id": "0a7995e0-29a2-4384-b6bb-6e7751c3d4ad",
   "metadata": {},
   "outputs": [],
   "source": [
    "spark = SparkSession.\\\n",
    "        builder.\\\n",
    "        appName(\"pyspark-notebook\").\\\n",
    "        master(\"spark://spark-master:7077\").\\\n",
    "        config(\"spark.executor.memory\", \"512m\").\\\n",
    "        getOrCreate()"
   ]
  },
  {
   "cell_type": "markdown",
   "id": "2bf5a90b-2af2-47f7-bcd7-384693ff2150",
   "metadata": {},
   "source": [
    "### Dataframe"
   ]
  },
  {
   "cell_type": "code",
   "execution_count": null,
   "id": "365dc0b9-c523-43c1-829b-84c6d888ec0a",
   "metadata": {},
   "outputs": [],
   "source": [
    "df_pyspark = spark.read.csv('dados2.csv', header=True, inferSchema=True)\n",
    "df_pyspark.show()"
   ]
  },
  {
   "cell_type": "code",
   "execution_count": null,
   "id": "605f59f5-ea2b-4fe8-ba09-6e1bc15a4f03",
   "metadata": {},
   "outputs": [],
   "source": [
    "# Descrever os valores estatísticos\n",
    "df_pyspark.describe().show()"
   ]
  },
  {
   "cell_type": "code",
   "execution_count": null,
   "id": "8b448959-5782-45e1-b796-760ecc9225e1",
   "metadata": {},
   "outputs": [],
   "source": [
    "# Executar uma única vez\n",
    "!pip install pandas"
   ]
  },
  {
   "cell_type": "code",
   "execution_count": null,
   "id": "57756756-f0d7-49b6-a206-3d0bf9376615",
   "metadata": {},
   "outputs": [],
   "source": [
    "import numpy as np\n",
    "import pandas as pd"
   ]
  },
  {
   "cell_type": "code",
   "execution_count": null,
   "id": "a2be4517-43d9-475c-9642-2028bc89548b",
   "metadata": {},
   "outputs": [],
   "source": [
    "def describe_pd(df_in, columns, deciles=False):\n",
    "    if deciles:\n",
    "        percentiles = np.array(range(0, 110, 10))\n",
    "    else:\n",
    "        percentiles = [25, 50, 75]\n",
    "    percs = np.transpose([np.percentile(df_in.select(x).collect(),percentiles) for x in columns])\n",
    "    percs = pd.DataFrame(percs, columns=columns)\n",
    "    percs['summary'] = [str(p) + '%' for p in percentiles]\n",
    "    spark_describe = df_in.describe().toPandas()\n",
    "    new_df = pd.concat([spark_describe, percs],ignore_index=True)\n",
    "    new_df = new_df.round(2)\n",
    "    return new_df[['summary'] + columns]"
   ]
  },
  {
   "cell_type": "code",
   "execution_count": null,
   "id": "af7eca36-9661-4aab-9526-a4c22a35f85b",
   "metadata": {},
   "outputs": [],
   "source": [
    "describe_pd(df_pyspark, ['Idade', 'Experiencia'])"
   ]
  },
  {
   "cell_type": "markdown",
   "id": "53ac261c-e76d-48d4-b7f2-496f38862cb4",
   "metadata": {},
   "source": [
    "### Assimetria e Curtose"
   ]
  },
  {
   "cell_type": "code",
   "execution_count": null,
   "id": "4f230689-fce9-43f8-9f47-dea130852285",
   "metadata": {},
   "outputs": [],
   "source": [
    "from pyspark.sql.functions import col, skewness, kurtosis"
   ]
  },
  {
   "cell_type": "code",
   "execution_count": null,
   "id": "53267597-4fd6-4de0-84d0-5c4712fc24a1",
   "metadata": {},
   "outputs": [],
   "source": [
    "df_pyspark.select(skewness(df_pyspark.Idade),kurtosis(df_pyspark.Idade)).show()"
   ]
  },
  {
   "cell_type": "code",
   "execution_count": null,
   "id": "c748ee6e-ce84-4be8-8125-148da1cc2cfd",
   "metadata": {},
   "outputs": [],
   "source": [
    "# Executar uma única vez\n",
    "!pip install seaborn"
   ]
  },
  {
   "cell_type": "code",
   "execution_count": null,
   "id": "85b7b3f9-e78b-4e09-a2c9-fe4328a13491",
   "metadata": {},
   "outputs": [],
   "source": [
    "import seaborn as sns\n",
    "import matplotlib.pyplot as plt\n",
    "%matplotlib inline"
   ]
  },
  {
   "cell_type": "code",
   "execution_count": null,
   "id": "675aec50-cd39-40ed-80c4-b7985cb66738",
   "metadata": {},
   "outputs": [],
   "source": [
    "coluna_selecionada = df_pyspark.select(\"Idade\")\n",
    "x = coluna_selecionada.rdd.flatMap(lambda x: x).collect()"
   ]
  },
  {
   "cell_type": "code",
   "execution_count": null,
   "id": "82cd3a41-3d20-49c0-bb7f-6635dd85024f",
   "metadata": {},
   "outputs": [],
   "source": [
    "plt.figure(figsize=(8,4))\n",
    "sns.histplot(x, kde=True)\n",
    "plt.xlabel('Idade')\n",
    "plt.ylabel('Quantidade')\n",
    "plt.show()"
   ]
  },
  {
   "cell_type": "code",
   "execution_count": null,
   "id": "5fa72ac4-50fd-4e50-8b3e-2c60b38a7782",
   "metadata": {},
   "outputs": [],
   "source": [
    "# Finalizar a Seção\n",
    "spark.sparkContext.stop()"
   ]
  },
  {
   "cell_type": "code",
   "execution_count": null,
   "id": "1a3d6dcb-ba20-493c-99d3-5f5ae8cce31f",
   "metadata": {},
   "outputs": [],
   "source": []
  }
 ],
 "metadata": {
  "kernelspec": {
   "display_name": "Python 3 (ipykernel)",
   "language": "python",
   "name": "python3"
  },
  "language_info": {
   "codemirror_mode": {
    "name": "ipython",
    "version": 3
   },
   "file_extension": ".py",
   "mimetype": "text/x-python",
   "name": "python",
   "nbconvert_exporter": "python",
   "pygments_lexer": "ipython3",
   "version": "3.9.2"
  }
 },
 "nbformat": 4,
 "nbformat_minor": 5
}
