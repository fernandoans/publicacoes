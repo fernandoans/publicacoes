{
 "cells": [
  {
   "cell_type": "markdown",
   "id": "137a6979-2212-4a7b-b2c4-92be5e1fb2dc",
   "metadata": {},
   "source": [
    "# Estatísticas com RDD"
   ]
  },
  {
   "cell_type": "code",
   "execution_count": null,
   "id": "ede0937d-7fb3-41e9-81f2-c12adaf8bee8",
   "metadata": {},
   "outputs": [],
   "source": [
    "from pyspark.sql import SparkSession\n",
    "\n",
    "spark = SparkSession.\\\n",
    "        builder.\\\n",
    "        appName(\"pyspark-notebook\").\\\n",
    "        master(\"spark://spark-master:7077\").\\\n",
    "        config(\"spark.executor.memory\", \"512m\").\\\n",
    "        getOrCreate()\n",
    "        \n",
    "sc = spark.sparkContext"
   ]
  },
  {
   "cell_type": "code",
   "execution_count": null,
   "id": "3d423ab4-9bde-4785-a637-3ffc7cae986d",
   "metadata": {},
   "outputs": [],
   "source": [
    "# Criar o objeto RDD\n",
    "numsRdd = sc.parallelize((2, 4, 6, 8, 3, 2, 8, 1, 4, 7))"
   ]
  },
  {
   "cell_type": "code",
   "execution_count": null,
   "id": "f66d7f4d-32a0-48f9-a67a-8fffeab49bd1",
   "metadata": {},
   "outputs": [],
   "source": [
    "# Obter a média\n",
    "numsRdd.mean()"
   ]
  },
  {
   "cell_type": "code",
   "execution_count": null,
   "id": "eeddf906-8943-40d1-b695-e5f7e2fb2e04",
   "metadata": {},
   "outputs": [],
   "source": [
    "# Quantidade de elementos\n",
    "numsRdd.count()"
   ]
  },
  {
   "cell_type": "code",
   "execution_count": null,
   "id": "ce5093ba-cfb2-4d07-9b2f-c5a60907e2da",
   "metadata": {},
   "outputs": [],
   "source": [
    "# Quantidade de cada um dos valores\n",
    "numsRdd.countByValue()"
   ]
  },
  {
   "cell_type": "code",
   "execution_count": null,
   "id": "8001e315-6624-406d-b2ca-77d6e3d05e26",
   "metadata": {},
   "outputs": [],
   "source": [
    "# Primeiro valor\n",
    "numsRdd.first()"
   ]
  },
  {
   "cell_type": "code",
   "execution_count": null,
   "id": "3cf48bc8-ab43-42f1-81b2-1a480df4c80a",
   "metadata": {},
   "outputs": [],
   "source": [
    "# Maior e menor valor\n",
    "print(numsRdd.max(), numsRdd.min())"
   ]
  },
  {
   "cell_type": "code",
   "execution_count": null,
   "id": "5ef12b64-1105-4ede-9097-598b25e1fbf3",
   "metadata": {},
   "outputs": [],
   "source": [
    "# Desvio padrão\n",
    "numsRdd.stdev()"
   ]
  },
  {
   "cell_type": "code",
   "execution_count": null,
   "id": "04f79b83-6f49-45a6-9a11-a978bbcb9f6f",
   "metadata": {},
   "outputs": [],
   "source": [
    "# Somar os valores\n",
    "numsRdd.sum()"
   ]
  },
  {
   "cell_type": "code",
   "execution_count": null,
   "id": "b846277d-7c27-4cbf-9e36-ed1eec60932b",
   "metadata": {},
   "outputs": [],
   "source": [
    "# Soma de todos os elementos do RDD\n",
    "soma = numbersRdd.fold(0, lambda x, y: x + y)\n",
    "\n",
    "# Produto de todos os elementos do RDD\n",
    "produto = numbersRdd.fold(1, lambda x, y: x * y)\n",
    "print(soma, produto)"
   ]
  },
  {
   "cell_type": "code",
   "execution_count": null,
   "id": "f169530c-7ef1-4e91-8ff1-91898a2fdf20",
   "metadata": {},
   "outputs": [],
   "source": [
    "# Soma de todos os elementos do RDD\n",
    "soma = numbersRdd.reduce(lambda x, y: x + y)\n",
    "\n",
    "# Produto de todos os elementos do RDD\n",
    "produto = numbersRdd.reduce(lambda x, y: x * y)\n",
    "print(soma, produto)"
   ]
  },
  {
   "cell_type": "code",
   "execution_count": null,
   "id": "a6569c72-d5c5-41bd-a356-9909b51fa623",
   "metadata": {},
   "outputs": [],
   "source": [
    "# Variância\n",
    "numsRdd.variance()"
   ]
  },
  {
   "cell_type": "code",
   "execution_count": null,
   "id": "35af6670-1c6c-4ada-9152-65631f159354",
   "metadata": {},
   "outputs": [],
   "source": [
    "spark.sparkContext.stop()"
   ]
  },
  {
   "cell_type": "code",
   "execution_count": null,
   "id": "c9f8c725-4268-4a5f-a14b-0c97dd0900ab",
   "metadata": {},
   "outputs": [],
   "source": []
  }
 ],
 "metadata": {
  "kernelspec": {
   "display_name": "Python 3 (ipykernel)",
   "language": "python",
   "name": "python3"
  },
  "language_info": {
   "codemirror_mode": {
    "name": "ipython",
    "version": 3
   },
   "file_extension": ".py",
   "mimetype": "text/x-python",
   "name": "python",
   "nbconvert_exporter": "python",
   "pygments_lexer": "ipython3",
   "version": "3.9.2"
  }
 },
 "nbformat": 4,
 "nbformat_minor": 5
}
