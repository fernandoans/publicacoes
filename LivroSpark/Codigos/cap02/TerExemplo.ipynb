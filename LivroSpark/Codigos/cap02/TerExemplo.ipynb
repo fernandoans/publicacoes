{
 "cells": [
  {
   "cell_type": "markdown",
   "id": "56b66541-0b85-44f4-9cf8-308a533eeac6",
   "metadata": {},
   "source": [
    "# Terceiro Exemplo - Básico"
   ]
  },
  {
   "cell_type": "code",
   "execution_count": null,
   "id": "2b9348cb-935f-4262-9f6b-75cf8f042783",
   "metadata": {},
   "outputs": [],
   "source": [
    "from pyspark.sql import SparkSession"
   ]
  },
  {
   "cell_type": "code",
   "execution_count": null,
   "id": "a268545d-7223-4218-b363-b0d00f1236bf",
   "metadata": {},
   "outputs": [],
   "source": [
    "spark = SparkSession.\\\n",
    "        builder.\\\n",
    "        appName(\"pyspark-notebook\").\\\n",
    "        master(\"spark://spark-master:7077\").\\\n",
    "        config(\"spark.executor.memory\", \"512m\").\\\n",
    "        getOrCreate()"
   ]
  },
  {
   "cell_type": "markdown",
   "id": "01219ff1-7777-43dd-b2dd-56e15263b5b7",
   "metadata": {},
   "source": [
    "### Criar um DataFrame"
   ]
  },
  {
   "cell_type": "code",
   "execution_count": null,
   "id": "430a66a8-8b14-4572-af33-90f6dd773224",
   "metadata": {},
   "outputs": [],
   "source": [
    "# Criar o Dataframe\n",
    "df_pyspark = spark.read.csv('dados.csv')\n",
    "print(type(df_pyspark))"
   ]
  },
  {
   "cell_type": "code",
   "execution_count": null,
   "id": "0b9ae81f-c26d-4957-9b73-fed9d7fd4c06",
   "metadata": {},
   "outputs": [],
   "source": [
    "# Mostrar o Dataframe\n",
    "df_pyspark.show()"
   ]
  },
  {
   "cell_type": "code",
   "execution_count": null,
   "id": "f6f6ebae-2ee0-4767-a99e-5d7cbaf18bbc",
   "metadata": {},
   "outputs": [],
   "source": [
    "# Ler o Dataframe com os cabeçalhos\n",
    "df_pyspark = spark.read.option('header', 'true').csv('dados.csv')\n",
    "df_pyspark.show()"
   ]
  },
  {
   "cell_type": "code",
   "execution_count": null,
   "id": "76fdfbce-4066-4270-bfcd-b2c262865c36",
   "metadata": {},
   "outputs": [],
   "source": [
    "# Verificar o esquema criado\n",
    "df_pyspark.printSchema()"
   ]
  },
  {
   "cell_type": "code",
   "execution_count": null,
   "id": "34c0d8bf-e2a6-444c-9b86-1e364d79134a",
   "metadata": {},
   "outputs": [],
   "source": [
    "# Modificar os tipos de Idade e Experiencia\n",
    "df_pyspark = spark.read.option('header', 'true').csv('dados.csv', inferSchema=True)\n",
    "df_pyspark.show()"
   ]
  },
  {
   "cell_type": "code",
   "execution_count": null,
   "id": "c5087e89-cf2d-4e3a-a878-2e75f37b1aa9",
   "metadata": {},
   "outputs": [],
   "source": [
    "# Verificar o novo esquema criado\n",
    "df_pyspark.printSchema()"
   ]
  },
  {
   "cell_type": "code",
   "execution_count": null,
   "id": "761a36d5-e2cf-458f-a1b2-93978e012b0b",
   "metadata": {},
   "outputs": [],
   "source": [
    "# Outra forma\n",
    "df_pyspark = spark.read.csv('dados.csv', header=True, inferSchema=True)\n",
    "df_pyspark.show()"
   ]
  },
  {
   "cell_type": "code",
   "execution_count": null,
   "id": "1d9bddba-84fc-4da8-ab3c-ddfb339060ac",
   "metadata": {},
   "outputs": [],
   "source": [
    "# Verificar os tipos de dados\n",
    "df_pyspark.dtypes"
   ]
  },
  {
   "cell_type": "code",
   "execution_count": null,
   "id": "19af0381-6785-48d4-b5c4-d772b4ef7317",
   "metadata": {},
   "outputs": [],
   "source": [
    "# Descrever os valores estatísticos\n",
    "df_pyspark.describe().show()"
   ]
  },
  {
   "cell_type": "markdown",
   "id": "18356407-b430-438c-94ff-ec8cec0dd2ca",
   "metadata": {},
   "source": [
    "### Trabalhar com Colunas"
   ]
  },
  {
   "cell_type": "code",
   "execution_count": null,
   "id": "c82466a5-6e89-481b-a660-2fa64d8b0b92",
   "metadata": {},
   "outputs": [],
   "source": [
    "# Nome das colunas (em uma Lista)\n",
    "df_pyspark.columns"
   ]
  },
  {
   "cell_type": "code",
   "execution_count": null,
   "id": "8cfecb54-acde-4841-a777-62aab3c7501a",
   "metadata": {},
   "outputs": [],
   "source": [
    "# Pegando todos os primeiros 3 elementos em forma de lista\n",
    "df_pyspark.head(3)"
   ]
  },
  {
   "cell_type": "code",
   "execution_count": null,
   "id": "f5cf4176-7b4f-4c89-bb4f-cc14813250a5",
   "metadata": {},
   "outputs": [],
   "source": [
    "# Selecionar uma coluna\n",
    "df_pyspark.select('Idade').show()"
   ]
  },
  {
   "cell_type": "code",
   "execution_count": null,
   "id": "09c66ac9-e559-4a29-8ef8-65296ce6b6cc",
   "metadata": {},
   "outputs": [],
   "source": [
    "# Selecionar mais de uma coluna\n",
    "df_pyspark.select(['Nome', 'Idade']).show()"
   ]
  },
  {
   "cell_type": "code",
   "execution_count": null,
   "id": "c1929894-c13d-44ab-90b7-6a9b8d6fb052",
   "metadata": {},
   "outputs": [],
   "source": [
    "from pyspark.sql import functions as F"
   ]
  },
  {
   "cell_type": "code",
   "execution_count": null,
   "id": "4c74640d-f794-42ef-b584-b0aa347d8148",
   "metadata": {
    "scrolled": true
   },
   "outputs": [],
   "source": [
    "# Selecionando a idade como tipo Float\n",
    "df_pyspark.select(F.col(\"Idade\").cast('float').alias(\"Idade em Float\")).show()"
   ]
  },
  {
   "cell_type": "code",
   "execution_count": null,
   "id": "006c2722-4b99-41c9-b235-b3e4b1f4e5e9",
   "metadata": {},
   "outputs": [],
   "source": [
    "# Adicionar coluna\n",
    "df_pyspark = df_pyspark.withColumn('Experiencia_Anos', df_pyspark['Experiencia']/12)\n",
    "df_pyspark.show()"
   ]
  },
  {
   "cell_type": "code",
   "execution_count": null,
   "id": "3fd12dea-f6d7-4c40-bf70-e0f3ad4d2fea",
   "metadata": {},
   "outputs": [],
   "source": [
    "# Mudar o tipo de uma coluna\n",
    "df_pyspark = df_pyspark.withColumn(\"Experiencia_Anos\", df_pyspark.Experiencia_Anos.cast('int'))\n",
    "df_pyspark.show()"
   ]
  },
  {
   "cell_type": "code",
   "execution_count": null,
   "id": "48744e02-384e-4705-803f-bf1fa91e2f7a",
   "metadata": {},
   "outputs": [],
   "source": [
    "# Eliminar coluna\n",
    "df_pyspark = df_pyspark.drop('Experiencia')\n",
    "df_pyspark.show()"
   ]
  },
  {
   "cell_type": "code",
   "execution_count": null,
   "id": "99bb3df6-cfb4-44d1-9315-3b76ad7bcfc2",
   "metadata": {},
   "outputs": [],
   "source": [
    "# Renomear colunas\n",
    "df_pyspark = df_pyspark.withColumnRenamed('Idade', 'Idade_Anos')\n",
    "df_pyspark.show()"
   ]
  },
  {
   "cell_type": "code",
   "execution_count": null,
   "id": "6c2a0e04-418a-44ab-96b4-caf392fc8712",
   "metadata": {},
   "outputs": [],
   "source": [
    "# Concatenar\n",
    "df_pyspark = df_pyspark.withColumn('Login',F.concat('Nome','Idade_Anos'))\n",
    "df_pyspark.show()"
   ]
  },
  {
   "cell_type": "markdown",
   "id": "b3a0e9d4-8887-4e4e-b983-46ce83cc03d5",
   "metadata": {},
   "source": [
    "### Criação dinâmica"
   ]
  },
  {
   "cell_type": "code",
   "execution_count": null,
   "id": "b88ff585-624c-4468-a4c2-c5358a051d59",
   "metadata": {},
   "outputs": [],
   "source": [
    "# Criando um DataFrame de listas de dados\n",
    "simpleData = [\n",
    "    (\"Fernando\",34,\"2006-01-03\",\"True\",\"M\",3000.60),\n",
    "    (\"Soraia\",33,\"1980-01-10\",\"True\",\"F\",3300.80),\n",
    "    (\"João\",37,\"1992-06-01\",\"False\",\"M\",5000.50)\n",
    "  ]\n",
    "\n",
    "# Nome das colunas\n",
    "columns = [\"Nome\",\"Idade\",\"Inicio\",\"Graduacao\",\"Genero\",\"Salario\"]\n",
    "\n",
    "# Criar o DataFrame\n",
    "df = spark.createDataFrame(data = simpleData, schema = columns)\n",
    "df.show(truncate=False)"
   ]
  },
  {
   "cell_type": "code",
   "execution_count": null,
   "id": "40057674-8d35-49ed-be23-aef172876dba",
   "metadata": {},
   "outputs": [],
   "source": [
    "df.printSchema()"
   ]
  },
  {
   "cell_type": "code",
   "execution_count": null,
   "id": "62182dee-a85b-41c8-a133-dbb1b2703cc8",
   "metadata": {},
   "outputs": [],
   "source": [
    "# Mudando para os tipos corretos\n",
    "df = df.withColumn(\"Idade\", df.Idade.cast('int'))\n",
    "df = df.withColumn(\"Inicio\", df.Inicio.cast('date'))\n",
    "df = df.withColumn(\"Graduacao\", df.Graduacao.cast('boolean'))"
   ]
  },
  {
   "cell_type": "code",
   "execution_count": null,
   "id": "f25ee3f4-6fb9-4c3f-9c4f-77e8ce557658",
   "metadata": {},
   "outputs": [],
   "source": [
    "df.printSchema()"
   ]
  },
  {
   "cell_type": "code",
   "execution_count": null,
   "id": "60a126e8-2492-4b5f-867a-8f48608d1a21",
   "metadata": {},
   "outputs": [],
   "source": [
    "df.show()"
   ]
  },
  {
   "cell_type": "code",
   "execution_count": null,
   "id": "905ac35b-766e-4685-8d62-f2dfad522813",
   "metadata": {},
   "outputs": [],
   "source": [
    "# Finalizar a Seção\n",
    "spark.sparkContext.stop()"
   ]
  },
  {
   "cell_type": "code",
   "execution_count": null,
   "id": "71f2bc5c-9d20-4382-8767-8412430c8900",
   "metadata": {},
   "outputs": [],
   "source": []
  }
 ],
 "metadata": {
  "kernelspec": {
   "display_name": "Python 3 (ipykernel)",
   "language": "python",
   "name": "python3"
  },
  "language_info": {
   "codemirror_mode": {
    "name": "ipython",
    "version": 3
   },
   "file_extension": ".py",
   "mimetype": "text/x-python",
   "name": "python",
   "nbconvert_exporter": "python",
   "pygments_lexer": "ipython3",
   "version": "3.9.2"
  }
 },
 "nbformat": 4,
 "nbformat_minor": 5
}
