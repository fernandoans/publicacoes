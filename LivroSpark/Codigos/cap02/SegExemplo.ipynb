{
 "cells": [
  {
   "cell_type": "markdown",
   "metadata": {},
   "source": [
    "# Exemplo 02 - Mostrar Palavras"
   ]
  },
  {
   "cell_type": "code",
   "execution_count": null,
   "metadata": {},
   "outputs": [],
   "source": [
    "from pyspark.sql import SparkSession"
   ]
  },
  {
   "cell_type": "code",
   "execution_count": null,
   "metadata": {},
   "outputs": [],
   "source": [
    "spark = SparkSession.\\\n",
    "        builder.\\\n",
    "        appName(\"pyspark-notebook\").\\\n",
    "        master(\"spark://spark-master:7077\").\\\n",
    "        config(\"spark.executor.memory\", \"512m\").\\\n",
    "        getOrCreate()"
   ]
  },
  {
   "cell_type": "code",
   "execution_count": null,
   "metadata": {},
   "outputs": [],
   "source": [
    "sc = spark.sparkContext"
   ]
  },
  {
   "cell_type": "markdown",
   "metadata": {},
   "source": [
    "### Ler Arquivo do PDF"
   ]
  },
  {
   "cell_type": "code",
   "execution_count": null,
   "metadata": {},
   "outputs": [],
   "source": [
    "# Execute esta célula apenas uma vez\n",
    "!pip install textract"
   ]
  },
  {
   "cell_type": "code",
   "execution_count": null,
   "metadata": {},
   "outputs": [],
   "source": [
    "import textract"
   ]
  },
  {
   "cell_type": "code",
   "execution_count": null,
   "metadata": {},
   "outputs": [],
   "source": [
    "text = textract.process(\"arquivo.pdf\", method='pdfminer')\n",
    "texto_corr = text.decode('utf-8')"
   ]
  },
  {
   "cell_type": "code",
   "execution_count": null,
   "metadata": {},
   "outputs": [],
   "source": [
    "file_in = sc.parallelize([texto_corr])"
   ]
  },
  {
   "cell_type": "code",
   "execution_count": null,
   "metadata": {},
   "outputs": [],
   "source": [
    "# Adiciona o operador add\n",
    "from operator import add"
   ]
  },
  {
   "cell_type": "code",
   "execution_count": null,
   "metadata": {},
   "outputs": [],
   "source": [
    "# Contar quantos caracteres\n",
    "chars = file_in.map(lambda s: len(s)).reduce(add)\n",
    "print('Número de caracteres no arquivo: %s' % chars)"
   ]
  },
  {
   "cell_type": "markdown",
   "metadata": {},
   "source": [
    "### Organizar a lista de palavras"
   ]
  },
  {
   "cell_type": "code",
   "execution_count": null,
   "metadata": {},
   "outputs": [],
   "source": [
    "# importar o módulo regex\n",
    "import re"
   ]
  },
  {
   "cell_type": "code",
   "execution_count": null,
   "metadata": {},
   "outputs": [],
   "source": [
    "# Definir a lista de palavras indesejadas\n",
    "palavras_indesejadas = [\"404\", \"agosto\", \"julho\", \"aulapython\", \"minicursos\", \"count\", \"erad\", \"2021\", \"para\", \"como\", \"como\", \"possui\", \"uma\", \"que\", \"com\", \"são\", \"quando\", \"linha\", \"pode\", \"ser\", \"ERAD-CO\"]\n",
    "\n",
    "# Dividir cada linha em palavras e criar um RDD com todas as palavras\n",
    "palavras = file_in.flatMap(lambda linha: linha.split(\" \"))\n",
    "\n",
    "# Colocar todas as palavras em letras minúsculas\n",
    "palavras = palavras.flatMap(lambda line: re.split('\\W+', line.lower().strip()))\n",
    "\n",
    "# Filtrar as palavras indesejadas\n",
    "palavras = palavras.filter(lambda palavra: palavra not in palavras_indesejadas)"
   ]
  },
  {
   "cell_type": "code",
   "execution_count": null,
   "metadata": {},
   "outputs": [],
   "source": [
    "# Filtrar apenas as palavras que não possuam caracteres\n",
    "palavras = palavras.filter(lambda x: len(x) > 2)\n",
    "\n",
    "# Fazer com que cada palavra tenha o valor 1\n",
    "palavras = palavras.map(lambda w: (w,1))\n",
    "\n",
    "# Reduzir para o total\n",
    "palavras = palavras.reduceByKey(add)"
   ]
  },
  {
   "cell_type": "code",
   "execution_count": null,
   "metadata": {},
   "outputs": [],
   "source": [
    "# Criar uma tupla (count, word) e ordenar de forma ascendente\n",
    "tpalavras = palavras.map(lambda x:(x[1],x[0])).sortByKey(False)\n",
    "\n",
    "# Pegar o Top 10\n",
    "tpalavras.take(10)"
   ]
  },
  {
   "cell_type": "code",
   "execution_count": null,
   "metadata": {},
   "outputs": [],
   "source": [
    "# Execute esta célula apenas uma vez\n",
    "!pip3 install matplotlib"
   ]
  },
  {
   "cell_type": "markdown",
   "metadata": {},
   "source": [
    "### Montar um gráfico"
   ]
  },
  {
   "cell_type": "code",
   "execution_count": null,
   "metadata": {},
   "outputs": [],
   "source": [
    "# Importar a biblioteca necessária\n",
    "import matplotlib.pyplot as plt\n",
    "%matplotlib inline"
   ]
  },
  {
   "cell_type": "code",
   "execution_count": null,
   "metadata": {},
   "outputs": [],
   "source": [
    "# Obter os dados\n",
    "dados = tpalavras.take(10)\n",
    "\n",
    "# Inverter a ordem dos dados\n",
    "dados = list(reversed(dados))\n",
    "\n",
    "# Extrair os valores e rótulos da lista\n",
    "values = [item[0] for item in dados]\n",
    "labels = [item[1] for item in dados]\n",
    "\n",
    "# Criar um gráfico de barras horizontais\n",
    "plt.barh(range(len(dados)), values, align='center')\n",
    "plt.yticks(range(len(dados)), labels)\n",
    "\n",
    "# Definir os rótulos dos eixos\n",
    "plt.xlabel('Contagem')\n",
    "plt.ylabel('Palavra')\n",
    "\n",
    "# Exibir o gráfico\n",
    "plt.show()"
   ]
  },
  {
   "cell_type": "code",
   "execution_count": null,
   "metadata": {},
   "outputs": [],
   "source": [
    "spark.sparkContext.stop()"
   ]
  },
  {
   "cell_type": "code",
   "execution_count": null,
   "metadata": {},
   "outputs": [],
   "source": []
  }
 ],
 "metadata": {
  "kernelspec": {
   "display_name": "Python 3 (ipykernel)",
   "language": "python",
   "name": "python3"
  },
  "language_info": {
   "codemirror_mode": {
    "name": "ipython",
    "version": 3
   },
   "file_extension": ".py",
   "mimetype": "text/x-python",
   "name": "python",
   "nbconvert_exporter": "python",
   "pygments_lexer": "ipython3",
   "version": "3.9.2"
  }
 },
 "nbformat": 4,
 "nbformat_minor": 4
}
